{
 "cells": [
  {
   "cell_type": "code",
   "execution_count": 1,
   "metadata": {},
   "outputs": [],
   "source": [
    "import pandas as pd\n",
    "import numpy as np\n",
    "import matplotlib.pyplot as plt"
   ]
  },
  {
   "cell_type": "code",
   "execution_count": 2,
   "metadata": {},
   "outputs": [
    {
     "data": {
      "text/html": [
       "<div>\n",
       "<style scoped>\n",
       "    .dataframe tbody tr th:only-of-type {\n",
       "        vertical-align: middle;\n",
       "    }\n",
       "\n",
       "    .dataframe tbody tr th {\n",
       "        vertical-align: top;\n",
       "    }\n",
       "\n",
       "    .dataframe thead th {\n",
       "        text-align: right;\n",
       "    }\n",
       "</style>\n",
       "<table border=\"1\" class=\"dataframe\">\n",
       "  <thead>\n",
       "    <tr style=\"text-align: right;\">\n",
       "      <th></th>\n",
       "      <th>_id</th>\n",
       "      <th>co2</th>\n",
       "      <th>temperatura</th>\n",
       "      <th>humedad</th>\n",
       "      <th>VPD</th>\n",
       "      <th>fecha</th>\n",
       "      <th>sensor</th>\n",
       "      <th>__v</th>\n",
       "    </tr>\n",
       "  </thead>\n",
       "  <tbody>\n",
       "    <tr>\n",
       "      <th>0</th>\n",
       "      <td>656f567cf082c314326ba7e5</td>\n",
       "      <td>0</td>\n",
       "      <td>0.000000</td>\n",
       "      <td>0.000000</td>\n",
       "      <td>0.611000</td>\n",
       "      <td>2023-12-05T11:57:32.118Z</td>\n",
       "      <td>650dc7d640e0be7842fc4239</td>\n",
       "      <td>0</td>\n",
       "    </tr>\n",
       "    <tr>\n",
       "      <th>1</th>\n",
       "      <td>656f567df082c314326ba7e7</td>\n",
       "      <td>0</td>\n",
       "      <td>0.000000</td>\n",
       "      <td>0.000000</td>\n",
       "      <td>0.611000</td>\n",
       "      <td>2023-12-05T11:57:33.218Z</td>\n",
       "      <td>650dc7d640e0be7842fc4239</td>\n",
       "      <td>0</td>\n",
       "    </tr>\n",
       "    <tr>\n",
       "      <th>2</th>\n",
       "      <td>656f567ef082c314326ba7e9</td>\n",
       "      <td>0</td>\n",
       "      <td>0.000000</td>\n",
       "      <td>0.000000</td>\n",
       "      <td>0.611000</td>\n",
       "      <td>2023-12-05T11:57:34.326Z</td>\n",
       "      <td>650dc7d640e0be7842fc4239</td>\n",
       "      <td>0</td>\n",
       "    </tr>\n",
       "    <tr>\n",
       "      <th>3</th>\n",
       "      <td>656f567ff082c314326ba7eb</td>\n",
       "      <td>0</td>\n",
       "      <td>0.000000</td>\n",
       "      <td>0.000000</td>\n",
       "      <td>0.611000</td>\n",
       "      <td>2023-12-05T11:57:35.452Z</td>\n",
       "      <td>650dc7d640e0be7842fc4239</td>\n",
       "      <td>0</td>\n",
       "    </tr>\n",
       "    <tr>\n",
       "      <th>4</th>\n",
       "      <td>656f5680f082c314326ba7ed</td>\n",
       "      <td>815</td>\n",
       "      <td>29.737164</td>\n",
       "      <td>38.445107</td>\n",
       "      <td>2.573539</td>\n",
       "      <td>2023-12-05T11:57:36.559Z</td>\n",
       "      <td>650dc7d640e0be7842fc4239</td>\n",
       "      <td>0</td>\n",
       "    </tr>\n",
       "    <tr>\n",
       "      <th>5</th>\n",
       "      <td>656f5681f082c314326ba7ef</td>\n",
       "      <td>0</td>\n",
       "      <td>0.000000</td>\n",
       "      <td>0.000000</td>\n",
       "      <td>0.611000</td>\n",
       "      <td>2023-12-05T11:57:37.681Z</td>\n",
       "      <td>650dc7d640e0be7842fc4239</td>\n",
       "      <td>0</td>\n",
       "    </tr>\n",
       "    <tr>\n",
       "      <th>6</th>\n",
       "      <td>656f5682f082c314326ba7f1</td>\n",
       "      <td>0</td>\n",
       "      <td>0.000000</td>\n",
       "      <td>0.000000</td>\n",
       "      <td>0.611000</td>\n",
       "      <td>2023-12-05T11:57:38.798Z</td>\n",
       "      <td>650dc7d640e0be7842fc4239</td>\n",
       "      <td>0</td>\n",
       "    </tr>\n",
       "    <tr>\n",
       "      <th>7</th>\n",
       "      <td>656f5683f082c314326ba7f3</td>\n",
       "      <td>0</td>\n",
       "      <td>0.000000</td>\n",
       "      <td>0.000000</td>\n",
       "      <td>0.611000</td>\n",
       "      <td>2023-12-05T11:57:39.906Z</td>\n",
       "      <td>650dc7d640e0be7842fc4239</td>\n",
       "      <td>0</td>\n",
       "    </tr>\n",
       "    <tr>\n",
       "      <th>8</th>\n",
       "      <td>656f5685f082c314326ba7f5</td>\n",
       "      <td>785</td>\n",
       "      <td>29.558250</td>\n",
       "      <td>38.875412</td>\n",
       "      <td>2.529388</td>\n",
       "      <td>2023-12-05T11:57:41.005Z</td>\n",
       "      <td>650dc7d640e0be7842fc4239</td>\n",
       "      <td>0</td>\n",
       "    </tr>\n",
       "    <tr>\n",
       "      <th>9</th>\n",
       "      <td>656f5686f082c314326ba7f7</td>\n",
       "      <td>0</td>\n",
       "      <td>0.000000</td>\n",
       "      <td>0.000000</td>\n",
       "      <td>0.611000</td>\n",
       "      <td>2023-12-05T11:57:42.127Z</td>\n",
       "      <td>650dc7d640e0be7842fc4239</td>\n",
       "      <td>0</td>\n",
       "    </tr>\n",
       "  </tbody>\n",
       "</table>\n",
       "</div>"
      ],
      "text/plain": [
       "                        _id  co2  temperatura    humedad       VPD  \\\n",
       "0  656f567cf082c314326ba7e5    0     0.000000   0.000000  0.611000   \n",
       "1  656f567df082c314326ba7e7    0     0.000000   0.000000  0.611000   \n",
       "2  656f567ef082c314326ba7e9    0     0.000000   0.000000  0.611000   \n",
       "3  656f567ff082c314326ba7eb    0     0.000000   0.000000  0.611000   \n",
       "4  656f5680f082c314326ba7ed  815    29.737164  38.445107  2.573539   \n",
       "5  656f5681f082c314326ba7ef    0     0.000000   0.000000  0.611000   \n",
       "6  656f5682f082c314326ba7f1    0     0.000000   0.000000  0.611000   \n",
       "7  656f5683f082c314326ba7f3    0     0.000000   0.000000  0.611000   \n",
       "8  656f5685f082c314326ba7f5  785    29.558250  38.875412  2.529388   \n",
       "9  656f5686f082c314326ba7f7    0     0.000000   0.000000  0.611000   \n",
       "\n",
       "                      fecha                    sensor  __v  \n",
       "0  2023-12-05T11:57:32.118Z  650dc7d640e0be7842fc4239    0  \n",
       "1  2023-12-05T11:57:33.218Z  650dc7d640e0be7842fc4239    0  \n",
       "2  2023-12-05T11:57:34.326Z  650dc7d640e0be7842fc4239    0  \n",
       "3  2023-12-05T11:57:35.452Z  650dc7d640e0be7842fc4239    0  \n",
       "4  2023-12-05T11:57:36.559Z  650dc7d640e0be7842fc4239    0  \n",
       "5  2023-12-05T11:57:37.681Z  650dc7d640e0be7842fc4239    0  \n",
       "6  2023-12-05T11:57:38.798Z  650dc7d640e0be7842fc4239    0  \n",
       "7  2023-12-05T11:57:39.906Z  650dc7d640e0be7842fc4239    0  \n",
       "8  2023-12-05T11:57:41.005Z  650dc7d640e0be7842fc4239    0  \n",
       "9  2023-12-05T11:57:42.127Z  650dc7d640e0be7842fc4239    0  "
      ]
     },
     "execution_count": 2,
     "metadata": {},
     "output_type": "execute_result"
    }
   ],
   "source": [
    "df = pd.read_csv(\"smartgrow.scd40-2024-1.csv\")\n",
    "df.head(10)"
   ]
  },
  {
   "cell_type": "code",
   "execution_count": 4,
   "metadata": {},
   "outputs": [
    {
     "data": {
      "text/plain": [
       "Index(['_id', 'co2', 'temperatura', 'humedad', 'VPD', 'fecha', 'sensor',\n",
       "       '__v'],\n",
       "      dtype='object')"
      ]
     },
     "execution_count": 4,
     "metadata": {},
     "output_type": "execute_result"
    }
   ],
   "source": [
    "df.columns"
   ]
  },
  {
   "cell_type": "code",
   "execution_count": 5,
   "metadata": {},
   "outputs": [
    {
     "data": {
      "text/plain": [
       "650dc7d640e0be7842fc4239    103946\n",
       "65391fa4700d51b6d681b3c5      1726\n",
       "Name: sensor, dtype: int64"
      ]
     },
     "execution_count": 5,
     "metadata": {},
     "output_type": "execute_result"
    }
   ],
   "source": [
    "#Tabla de frecuencia de la columna sensor\n",
    "\n",
    "df['sensor'].value_counts()"
   ]
  },
  {
   "cell_type": "code",
   "execution_count": 6,
   "metadata": {},
   "outputs": [
    {
     "data": {
      "text/html": [
       "<div>\n",
       "<style scoped>\n",
       "    .dataframe tbody tr th:only-of-type {\n",
       "        vertical-align: middle;\n",
       "    }\n",
       "\n",
       "    .dataframe tbody tr th {\n",
       "        vertical-align: top;\n",
       "    }\n",
       "\n",
       "    .dataframe thead th {\n",
       "        text-align: right;\n",
       "    }\n",
       "</style>\n",
       "<table border=\"1\" class=\"dataframe\">\n",
       "  <thead>\n",
       "    <tr style=\"text-align: right;\">\n",
       "      <th></th>\n",
       "      <th>_id</th>\n",
       "      <th>co2</th>\n",
       "      <th>temperatura</th>\n",
       "      <th>humedad</th>\n",
       "      <th>VPD</th>\n",
       "      <th>fecha</th>\n",
       "      <th>sensor</th>\n",
       "      <th>__v</th>\n",
       "    </tr>\n",
       "  </thead>\n",
       "  <tbody>\n",
       "    <tr>\n",
       "      <th>571</th>\n",
       "      <td>6570ec957851df10c09542aa</td>\n",
       "      <td>515</td>\n",
       "      <td>24.503319</td>\n",
       "      <td>52.997635</td>\n",
       "      <td>1.445918</td>\n",
       "      <td>2023-12-06T16:50:13.953Z</td>\n",
       "      <td>65391fa4700d51b6d681b3c5</td>\n",
       "      <td>0</td>\n",
       "    </tr>\n",
       "    <tr>\n",
       "      <th>572</th>\n",
       "      <td>6570eea37851df10c09542ac</td>\n",
       "      <td>544</td>\n",
       "      <td>25.160219</td>\n",
       "      <td>51.349659</td>\n",
       "      <td>1.556413</td>\n",
       "      <td>2023-12-06T16:58:59.032Z</td>\n",
       "      <td>65391fa4700d51b6d681b3c5</td>\n",
       "      <td>0</td>\n",
       "    </tr>\n",
       "    <tr>\n",
       "      <th>8888</th>\n",
       "      <td>659c656964f3f4703a12d715</td>\n",
       "      <td>831</td>\n",
       "      <td>28.148317</td>\n",
       "      <td>39.340809</td>\n",
       "      <td>2.313508</td>\n",
       "      <td>2024-01-08T16:13:13.437Z</td>\n",
       "      <td>65391fa4700d51b6d681b3c5</td>\n",
       "      <td>0</td>\n",
       "    </tr>\n",
       "    <tr>\n",
       "      <th>8889</th>\n",
       "      <td>659c657364f3f4703a12d717</td>\n",
       "      <td>806</td>\n",
       "      <td>28.121614</td>\n",
       "      <td>39.327076</td>\n",
       "      <td>2.310441</td>\n",
       "      <td>2024-01-08T16:13:23.421Z</td>\n",
       "      <td>65391fa4700d51b6d681b3c5</td>\n",
       "      <td>0</td>\n",
       "    </tr>\n",
       "    <tr>\n",
       "      <th>8890</th>\n",
       "      <td>659c657d64f3f4703a12d719</td>\n",
       "      <td>770</td>\n",
       "      <td>28.081560</td>\n",
       "      <td>39.371326</td>\n",
       "      <td>2.303381</td>\n",
       "      <td>2024-01-08T16:13:33.419Z</td>\n",
       "      <td>65391fa4700d51b6d681b3c5</td>\n",
       "      <td>0</td>\n",
       "    </tr>\n",
       "    <tr>\n",
       "      <th>8891</th>\n",
       "      <td>659c658764f3f4703a12d71b</td>\n",
       "      <td>739</td>\n",
       "      <td>28.078890</td>\n",
       "      <td>39.340809</td>\n",
       "      <td>2.304183</td>\n",
       "      <td>2024-01-08T16:13:43.416Z</td>\n",
       "      <td>65391fa4700d51b6d681b3c5</td>\n",
       "      <td>0</td>\n",
       "    </tr>\n",
       "    <tr>\n",
       "      <th>8892</th>\n",
       "      <td>659c659164f3f4703a12d71d</td>\n",
       "      <td>717</td>\n",
       "      <td>28.036163</td>\n",
       "      <td>39.368275</td>\n",
       "      <td>2.297419</td>\n",
       "      <td>2024-01-08T16:13:53.421Z</td>\n",
       "      <td>65391fa4700d51b6d681b3c5</td>\n",
       "      <td>0</td>\n",
       "    </tr>\n",
       "    <tr>\n",
       "      <th>8893</th>\n",
       "      <td>659c659b64f3f4703a12d71f</td>\n",
       "      <td>710</td>\n",
       "      <td>28.041504</td>\n",
       "      <td>39.386589</td>\n",
       "      <td>2.297439</td>\n",
       "      <td>2024-01-08T16:14:03.426Z</td>\n",
       "      <td>65391fa4700d51b6d681b3c5</td>\n",
       "      <td>0</td>\n",
       "    </tr>\n",
       "    <tr>\n",
       "      <th>8894</th>\n",
       "      <td>659c65a564f3f4703a12d721</td>\n",
       "      <td>699</td>\n",
       "      <td>28.006790</td>\n",
       "      <td>39.426262</td>\n",
       "      <td>2.291301</td>\n",
       "      <td>2024-01-08T16:14:13.426Z</td>\n",
       "      <td>65391fa4700d51b6d681b3c5</td>\n",
       "      <td>0</td>\n",
       "    </tr>\n",
       "    <tr>\n",
       "      <th>8895</th>\n",
       "      <td>659c65af64f3f4703a12d723</td>\n",
       "      <td>731</td>\n",
       "      <td>28.006790</td>\n",
       "      <td>39.926758</td>\n",
       "      <td>2.272368</td>\n",
       "      <td>2024-01-08T16:14:23.441Z</td>\n",
       "      <td>65391fa4700d51b6d681b3c5</td>\n",
       "      <td>0</td>\n",
       "    </tr>\n",
       "  </tbody>\n",
       "</table>\n",
       "</div>"
      ],
      "text/plain": [
       "                           _id  co2  temperatura    humedad       VPD  \\\n",
       "571   6570ec957851df10c09542aa  515    24.503319  52.997635  1.445918   \n",
       "572   6570eea37851df10c09542ac  544    25.160219  51.349659  1.556413   \n",
       "8888  659c656964f3f4703a12d715  831    28.148317  39.340809  2.313508   \n",
       "8889  659c657364f3f4703a12d717  806    28.121614  39.327076  2.310441   \n",
       "8890  659c657d64f3f4703a12d719  770    28.081560  39.371326  2.303381   \n",
       "8891  659c658764f3f4703a12d71b  739    28.078890  39.340809  2.304183   \n",
       "8892  659c659164f3f4703a12d71d  717    28.036163  39.368275  2.297419   \n",
       "8893  659c659b64f3f4703a12d71f  710    28.041504  39.386589  2.297439   \n",
       "8894  659c65a564f3f4703a12d721  699    28.006790  39.426262  2.291301   \n",
       "8895  659c65af64f3f4703a12d723  731    28.006790  39.926758  2.272368   \n",
       "\n",
       "                         fecha                    sensor  __v  \n",
       "571   2023-12-06T16:50:13.953Z  65391fa4700d51b6d681b3c5    0  \n",
       "572   2023-12-06T16:58:59.032Z  65391fa4700d51b6d681b3c5    0  \n",
       "8888  2024-01-08T16:13:13.437Z  65391fa4700d51b6d681b3c5    0  \n",
       "8889  2024-01-08T16:13:23.421Z  65391fa4700d51b6d681b3c5    0  \n",
       "8890  2024-01-08T16:13:33.419Z  65391fa4700d51b6d681b3c5    0  \n",
       "8891  2024-01-08T16:13:43.416Z  65391fa4700d51b6d681b3c5    0  \n",
       "8892  2024-01-08T16:13:53.421Z  65391fa4700d51b6d681b3c5    0  \n",
       "8893  2024-01-08T16:14:03.426Z  65391fa4700d51b6d681b3c5    0  \n",
       "8894  2024-01-08T16:14:13.426Z  65391fa4700d51b6d681b3c5    0  \n",
       "8895  2024-01-08T16:14:23.441Z  65391fa4700d51b6d681b3c5    0  "
      ]
     },
     "execution_count": 6,
     "metadata": {},
     "output_type": "execute_result"
    }
   ],
   "source": [
    "#crear nuevo dataframe con los datos del sensor 65391fa4700d51b6d681b3c5\n",
    "\n",
    "df2 = df[df['sensor'] == '65391fa4700d51b6d681b3c5']\n",
    "df2.head(10)\n"
   ]
  },
  {
   "cell_type": "code",
   "execution_count": 7,
   "metadata": {},
   "outputs": [
    {
     "data": {
      "text/plain": [
       "count    1726.000000\n",
       "mean       -1.290116\n",
       "std        43.185652\n",
       "min      -577.902344\n",
       "25%         1.294792\n",
       "50%         2.079556\n",
       "75%         2.558598\n",
       "max         9.244057\n",
       "Name: VPD, dtype: float64"
      ]
     },
     "execution_count": 7,
     "metadata": {},
     "output_type": "execute_result"
    }
   ],
   "source": [
    "df2['VPD'].describe()"
   ]
  },
  {
   "cell_type": "code",
   "execution_count": 8,
   "metadata": {},
   "outputs": [
    {
     "data": {
      "text/plain": [
       "count    1716.000000\n",
       "mean        2.004990\n",
       "std         0.782101\n",
       "min         0.580321\n",
       "25%         1.300527\n",
       "50%         2.082011\n",
       "75%         2.560226\n",
       "max         9.244057\n",
       "Name: VPD, dtype: float64"
      ]
     },
     "execution_count": 8,
     "metadata": {},
     "output_type": "execute_result"
    }
   ],
   "source": [
    "df2 = df2[df2['VPD'] > 0]\n",
    "df2['VPD'].describe()"
   ]
  },
  {
   "cell_type": "code",
   "execution_count": 13,
   "metadata": {},
   "outputs": [],
   "source": [
    "df = df[df['VPD'] <= 3]\n",
    "df = df[df['VPD'] > 0]\n"
   ]
  },
  {
   "cell_type": "code",
   "execution_count": 14,
   "metadata": {},
   "outputs": [
    {
     "data": {
      "text/plain": [
       "(105531, 8)"
      ]
     },
     "execution_count": 14,
     "metadata": {},
     "output_type": "execute_result"
    }
   ],
   "source": [
    "df.shape"
   ]
  },
  {
   "cell_type": "code",
   "execution_count": null,
   "metadata": {},
   "outputs": [],
   "source": [
    "#Hacer una grafica de la columna vpd\n",
    "\n",
    "plt.plot(df['fecha'],df['VPD'], label = \"VPD\")\n",
    "plt.grid()\n",
    "plt.legend()\n",
    "plt.title(\"VPD\")\n",
    "plt.xlabel(\"Tiempo\")\n",
    "plt.ylabel(\"VPD\")\n",
    "plt.show()\n",
    "\n"
   ]
  },
  {
   "cell_type": "code",
   "execution_count": 3,
   "metadata": {},
   "outputs": [
    {
     "data": {
      "text/html": [
       "<div>\n",
       "<style scoped>\n",
       "    .dataframe tbody tr th:only-of-type {\n",
       "        vertical-align: middle;\n",
       "    }\n",
       "\n",
       "    .dataframe tbody tr th {\n",
       "        vertical-align: top;\n",
       "    }\n",
       "\n",
       "    .dataframe thead th {\n",
       "        text-align: right;\n",
       "    }\n",
       "</style>\n",
       "<table border=\"1\" class=\"dataframe\">\n",
       "  <thead>\n",
       "    <tr style=\"text-align: right;\">\n",
       "      <th></th>\n",
       "      <th>_id</th>\n",
       "      <th>co2</th>\n",
       "      <th>temperatura</th>\n",
       "      <th>humedad</th>\n",
       "      <th>VPD</th>\n",
       "      <th>fecha</th>\n",
       "      <th>sensor</th>\n",
       "      <th>__v</th>\n",
       "    </tr>\n",
       "  </thead>\n",
       "  <tbody>\n",
       "    <tr>\n",
       "      <th>0</th>\n",
       "      <td>656f567cf082c314326ba7e5</td>\n",
       "      <td>0</td>\n",
       "      <td>0.000000</td>\n",
       "      <td>0.000000</td>\n",
       "      <td>0.611000</td>\n",
       "      <td>2023-12-05T11:57:32.118Z</td>\n",
       "      <td>650dc7d640e0be7842fc4239</td>\n",
       "      <td>0</td>\n",
       "    </tr>\n",
       "    <tr>\n",
       "      <th>1</th>\n",
       "      <td>656f567df082c314326ba7e7</td>\n",
       "      <td>0</td>\n",
       "      <td>0.000000</td>\n",
       "      <td>0.000000</td>\n",
       "      <td>0.611000</td>\n",
       "      <td>2023-12-05T11:57:33.218Z</td>\n",
       "      <td>650dc7d640e0be7842fc4239</td>\n",
       "      <td>0</td>\n",
       "    </tr>\n",
       "    <tr>\n",
       "      <th>2</th>\n",
       "      <td>656f567ef082c314326ba7e9</td>\n",
       "      <td>0</td>\n",
       "      <td>0.000000</td>\n",
       "      <td>0.000000</td>\n",
       "      <td>0.611000</td>\n",
       "      <td>2023-12-05T11:57:34.326Z</td>\n",
       "      <td>650dc7d640e0be7842fc4239</td>\n",
       "      <td>0</td>\n",
       "    </tr>\n",
       "    <tr>\n",
       "      <th>3</th>\n",
       "      <td>656f567ff082c314326ba7eb</td>\n",
       "      <td>0</td>\n",
       "      <td>0.000000</td>\n",
       "      <td>0.000000</td>\n",
       "      <td>0.611000</td>\n",
       "      <td>2023-12-05T11:57:35.452Z</td>\n",
       "      <td>650dc7d640e0be7842fc4239</td>\n",
       "      <td>0</td>\n",
       "    </tr>\n",
       "    <tr>\n",
       "      <th>4</th>\n",
       "      <td>656f5680f082c314326ba7ed</td>\n",
       "      <td>815</td>\n",
       "      <td>29.737164</td>\n",
       "      <td>38.445107</td>\n",
       "      <td>2.573539</td>\n",
       "      <td>2023-12-05T11:57:36.559Z</td>\n",
       "      <td>650dc7d640e0be7842fc4239</td>\n",
       "      <td>0</td>\n",
       "    </tr>\n",
       "    <tr>\n",
       "      <th>5</th>\n",
       "      <td>656f5681f082c314326ba7ef</td>\n",
       "      <td>0</td>\n",
       "      <td>0.000000</td>\n",
       "      <td>0.000000</td>\n",
       "      <td>0.611000</td>\n",
       "      <td>2023-12-05T11:57:37.681Z</td>\n",
       "      <td>650dc7d640e0be7842fc4239</td>\n",
       "      <td>0</td>\n",
       "    </tr>\n",
       "    <tr>\n",
       "      <th>6</th>\n",
       "      <td>656f5682f082c314326ba7f1</td>\n",
       "      <td>0</td>\n",
       "      <td>0.000000</td>\n",
       "      <td>0.000000</td>\n",
       "      <td>0.611000</td>\n",
       "      <td>2023-12-05T11:57:38.798Z</td>\n",
       "      <td>650dc7d640e0be7842fc4239</td>\n",
       "      <td>0</td>\n",
       "    </tr>\n",
       "    <tr>\n",
       "      <th>7</th>\n",
       "      <td>656f5683f082c314326ba7f3</td>\n",
       "      <td>0</td>\n",
       "      <td>0.000000</td>\n",
       "      <td>0.000000</td>\n",
       "      <td>0.611000</td>\n",
       "      <td>2023-12-05T11:57:39.906Z</td>\n",
       "      <td>650dc7d640e0be7842fc4239</td>\n",
       "      <td>0</td>\n",
       "    </tr>\n",
       "    <tr>\n",
       "      <th>8</th>\n",
       "      <td>656f5685f082c314326ba7f5</td>\n",
       "      <td>785</td>\n",
       "      <td>29.558250</td>\n",
       "      <td>38.875412</td>\n",
       "      <td>2.529388</td>\n",
       "      <td>2023-12-05T11:57:41.005Z</td>\n",
       "      <td>650dc7d640e0be7842fc4239</td>\n",
       "      <td>0</td>\n",
       "    </tr>\n",
       "    <tr>\n",
       "      <th>9</th>\n",
       "      <td>656f5686f082c314326ba7f7</td>\n",
       "      <td>0</td>\n",
       "      <td>0.000000</td>\n",
       "      <td>0.000000</td>\n",
       "      <td>0.611000</td>\n",
       "      <td>2023-12-05T11:57:42.127Z</td>\n",
       "      <td>650dc7d640e0be7842fc4239</td>\n",
       "      <td>0</td>\n",
       "    </tr>\n",
       "  </tbody>\n",
       "</table>\n",
       "</div>"
      ],
      "text/plain": [
       "                        _id  co2  temperatura    humedad       VPD  \\\n",
       "0  656f567cf082c314326ba7e5    0     0.000000   0.000000  0.611000   \n",
       "1  656f567df082c314326ba7e7    0     0.000000   0.000000  0.611000   \n",
       "2  656f567ef082c314326ba7e9    0     0.000000   0.000000  0.611000   \n",
       "3  656f567ff082c314326ba7eb    0     0.000000   0.000000  0.611000   \n",
       "4  656f5680f082c314326ba7ed  815    29.737164  38.445107  2.573539   \n",
       "5  656f5681f082c314326ba7ef    0     0.000000   0.000000  0.611000   \n",
       "6  656f5682f082c314326ba7f1    0     0.000000   0.000000  0.611000   \n",
       "7  656f5683f082c314326ba7f3    0     0.000000   0.000000  0.611000   \n",
       "8  656f5685f082c314326ba7f5  785    29.558250  38.875412  2.529388   \n",
       "9  656f5686f082c314326ba7f7    0     0.000000   0.000000  0.611000   \n",
       "\n",
       "                      fecha                    sensor  __v  \n",
       "0  2023-12-05T11:57:32.118Z  650dc7d640e0be7842fc4239    0  \n",
       "1  2023-12-05T11:57:33.218Z  650dc7d640e0be7842fc4239    0  \n",
       "2  2023-12-05T11:57:34.326Z  650dc7d640e0be7842fc4239    0  \n",
       "3  2023-12-05T11:57:35.452Z  650dc7d640e0be7842fc4239    0  \n",
       "4  2023-12-05T11:57:36.559Z  650dc7d640e0be7842fc4239    0  \n",
       "5  2023-12-05T11:57:37.681Z  650dc7d640e0be7842fc4239    0  \n",
       "6  2023-12-05T11:57:38.798Z  650dc7d640e0be7842fc4239    0  \n",
       "7  2023-12-05T11:57:39.906Z  650dc7d640e0be7842fc4239    0  \n",
       "8  2023-12-05T11:57:41.005Z  650dc7d640e0be7842fc4239    0  \n",
       "9  2023-12-05T11:57:42.127Z  650dc7d640e0be7842fc4239    0  "
      ]
     },
     "execution_count": 3,
     "metadata": {},
     "output_type": "execute_result"
    }
   ],
   "source": [
    "df = pd.read_csv(\"smartgrow.scd4017-12-2023.csv\")\n",
    "df.head(10)"
   ]
  },
  {
   "cell_type": "code",
   "execution_count": 4,
   "metadata": {},
   "outputs": [
    {
     "data": {
      "text/plain": [
       "650dc7d640e0be7842fc4239    3628\n",
       "65391fa4700d51b6d681b3c5       2\n",
       "Name: sensor, dtype: int64"
      ]
     },
     "execution_count": 4,
     "metadata": {},
     "output_type": "execute_result"
    }
   ],
   "source": [
    "df['sensor'].value_counts()"
   ]
  },
  {
   "cell_type": "code",
   "execution_count": 6,
   "metadata": {},
   "outputs": [
    {
     "data": {
      "text/html": [
       "<div>\n",
       "<style scoped>\n",
       "    .dataframe tbody tr th:only-of-type {\n",
       "        vertical-align: middle;\n",
       "    }\n",
       "\n",
       "    .dataframe tbody tr th {\n",
       "        vertical-align: top;\n",
       "    }\n",
       "\n",
       "    .dataframe thead th {\n",
       "        text-align: right;\n",
       "    }\n",
       "</style>\n",
       "<table border=\"1\" class=\"dataframe\">\n",
       "  <thead>\n",
       "    <tr style=\"text-align: right;\">\n",
       "      <th></th>\n",
       "      <th>_id</th>\n",
       "      <th>co2</th>\n",
       "      <th>temperatura</th>\n",
       "      <th>humedad</th>\n",
       "      <th>VPD</th>\n",
       "      <th>fecha</th>\n",
       "      <th>sensor</th>\n",
       "      <th>__v</th>\n",
       "    </tr>\n",
       "  </thead>\n",
       "  <tbody>\n",
       "    <tr>\n",
       "      <th>0</th>\n",
       "      <td>656f567cf082c314326ba7e5</td>\n",
       "      <td>0</td>\n",
       "      <td>0.000000</td>\n",
       "      <td>0.000000</td>\n",
       "      <td>0.611000</td>\n",
       "      <td>2023-12-05T11:57:32.118Z</td>\n",
       "      <td>650dc7d640e0be7842fc4239</td>\n",
       "      <td>0</td>\n",
       "    </tr>\n",
       "    <tr>\n",
       "      <th>1</th>\n",
       "      <td>656f567df082c314326ba7e7</td>\n",
       "      <td>0</td>\n",
       "      <td>0.000000</td>\n",
       "      <td>0.000000</td>\n",
       "      <td>0.611000</td>\n",
       "      <td>2023-12-05T11:57:33.218Z</td>\n",
       "      <td>650dc7d640e0be7842fc4239</td>\n",
       "      <td>0</td>\n",
       "    </tr>\n",
       "    <tr>\n",
       "      <th>2</th>\n",
       "      <td>656f567ef082c314326ba7e9</td>\n",
       "      <td>0</td>\n",
       "      <td>0.000000</td>\n",
       "      <td>0.000000</td>\n",
       "      <td>0.611000</td>\n",
       "      <td>2023-12-05T11:57:34.326Z</td>\n",
       "      <td>650dc7d640e0be7842fc4239</td>\n",
       "      <td>0</td>\n",
       "    </tr>\n",
       "    <tr>\n",
       "      <th>3</th>\n",
       "      <td>656f567ff082c314326ba7eb</td>\n",
       "      <td>0</td>\n",
       "      <td>0.000000</td>\n",
       "      <td>0.000000</td>\n",
       "      <td>0.611000</td>\n",
       "      <td>2023-12-05T11:57:35.452Z</td>\n",
       "      <td>650dc7d640e0be7842fc4239</td>\n",
       "      <td>0</td>\n",
       "    </tr>\n",
       "    <tr>\n",
       "      <th>4</th>\n",
       "      <td>656f5680f082c314326ba7ed</td>\n",
       "      <td>815</td>\n",
       "      <td>29.737164</td>\n",
       "      <td>38.445107</td>\n",
       "      <td>2.573539</td>\n",
       "      <td>2023-12-05T11:57:36.559Z</td>\n",
       "      <td>650dc7d640e0be7842fc4239</td>\n",
       "      <td>0</td>\n",
       "    </tr>\n",
       "    <tr>\n",
       "      <th>5</th>\n",
       "      <td>656f5681f082c314326ba7ef</td>\n",
       "      <td>0</td>\n",
       "      <td>0.000000</td>\n",
       "      <td>0.000000</td>\n",
       "      <td>0.611000</td>\n",
       "      <td>2023-12-05T11:57:37.681Z</td>\n",
       "      <td>650dc7d640e0be7842fc4239</td>\n",
       "      <td>0</td>\n",
       "    </tr>\n",
       "    <tr>\n",
       "      <th>6</th>\n",
       "      <td>656f5682f082c314326ba7f1</td>\n",
       "      <td>0</td>\n",
       "      <td>0.000000</td>\n",
       "      <td>0.000000</td>\n",
       "      <td>0.611000</td>\n",
       "      <td>2023-12-05T11:57:38.798Z</td>\n",
       "      <td>650dc7d640e0be7842fc4239</td>\n",
       "      <td>0</td>\n",
       "    </tr>\n",
       "    <tr>\n",
       "      <th>7</th>\n",
       "      <td>656f5683f082c314326ba7f3</td>\n",
       "      <td>0</td>\n",
       "      <td>0.000000</td>\n",
       "      <td>0.000000</td>\n",
       "      <td>0.611000</td>\n",
       "      <td>2023-12-05T11:57:39.906Z</td>\n",
       "      <td>650dc7d640e0be7842fc4239</td>\n",
       "      <td>0</td>\n",
       "    </tr>\n",
       "    <tr>\n",
       "      <th>8</th>\n",
       "      <td>656f5685f082c314326ba7f5</td>\n",
       "      <td>785</td>\n",
       "      <td>29.558250</td>\n",
       "      <td>38.875412</td>\n",
       "      <td>2.529388</td>\n",
       "      <td>2023-12-05T11:57:41.005Z</td>\n",
       "      <td>650dc7d640e0be7842fc4239</td>\n",
       "      <td>0</td>\n",
       "    </tr>\n",
       "    <tr>\n",
       "      <th>9</th>\n",
       "      <td>656f5686f082c314326ba7f7</td>\n",
       "      <td>0</td>\n",
       "      <td>0.000000</td>\n",
       "      <td>0.000000</td>\n",
       "      <td>0.611000</td>\n",
       "      <td>2023-12-05T11:57:42.127Z</td>\n",
       "      <td>650dc7d640e0be7842fc4239</td>\n",
       "      <td>0</td>\n",
       "    </tr>\n",
       "  </tbody>\n",
       "</table>\n",
       "</div>"
      ],
      "text/plain": [
       "                        _id  co2  temperatura    humedad       VPD  \\\n",
       "0  656f567cf082c314326ba7e5    0     0.000000   0.000000  0.611000   \n",
       "1  656f567df082c314326ba7e7    0     0.000000   0.000000  0.611000   \n",
       "2  656f567ef082c314326ba7e9    0     0.000000   0.000000  0.611000   \n",
       "3  656f567ff082c314326ba7eb    0     0.000000   0.000000  0.611000   \n",
       "4  656f5680f082c314326ba7ed  815    29.737164  38.445107  2.573539   \n",
       "5  656f5681f082c314326ba7ef    0     0.000000   0.000000  0.611000   \n",
       "6  656f5682f082c314326ba7f1    0     0.000000   0.000000  0.611000   \n",
       "7  656f5683f082c314326ba7f3    0     0.000000   0.000000  0.611000   \n",
       "8  656f5685f082c314326ba7f5  785    29.558250  38.875412  2.529388   \n",
       "9  656f5686f082c314326ba7f7    0     0.000000   0.000000  0.611000   \n",
       "\n",
       "                      fecha                    sensor  __v  \n",
       "0  2023-12-05T11:57:32.118Z  650dc7d640e0be7842fc4239    0  \n",
       "1  2023-12-05T11:57:33.218Z  650dc7d640e0be7842fc4239    0  \n",
       "2  2023-12-05T11:57:34.326Z  650dc7d640e0be7842fc4239    0  \n",
       "3  2023-12-05T11:57:35.452Z  650dc7d640e0be7842fc4239    0  \n",
       "4  2023-12-05T11:57:36.559Z  650dc7d640e0be7842fc4239    0  \n",
       "5  2023-12-05T11:57:37.681Z  650dc7d640e0be7842fc4239    0  \n",
       "6  2023-12-05T11:57:38.798Z  650dc7d640e0be7842fc4239    0  \n",
       "7  2023-12-05T11:57:39.906Z  650dc7d640e0be7842fc4239    0  \n",
       "8  2023-12-05T11:57:41.005Z  650dc7d640e0be7842fc4239    0  \n",
       "9  2023-12-05T11:57:42.127Z  650dc7d640e0be7842fc4239    0  "
      ]
     },
     "execution_count": 6,
     "metadata": {},
     "output_type": "execute_result"
    }
   ],
   "source": [
    "df2 = df[df['sensor'] == '650dc7d640e0be7842fc4239']\n",
    "df2.head(10)"
   ]
  },
  {
   "cell_type": "code",
   "execution_count": 7,
   "metadata": {},
   "outputs": [
    {
     "data": {
      "text/plain": [
       "count    3628.000000\n",
       "mean        0.715026\n",
       "std         0.278670\n",
       "min         0.299715\n",
       "25%         0.579601\n",
       "50%         0.639936\n",
       "75%         0.799784\n",
       "max         2.573539\n",
       "Name: VPD, dtype: float64"
      ]
     },
     "execution_count": 7,
     "metadata": {},
     "output_type": "execute_result"
    }
   ],
   "source": [
    "df2['VPD'].describe()"
   ]
  },
  {
   "cell_type": "code",
   "execution_count": 10,
   "metadata": {},
   "outputs": [
    {
     "name": "stderr",
     "output_type": "stream",
     "text": [
      "c:\\Users\\Juan Carlos\\Documents\\Maestria\\3 Semestre\\DATA\\venv\\lib\\site-packages\\ipykernel_launcher.py:3: SettingWithCopyWarning: \n",
      "A value is trying to be set on a copy of a slice from a DataFrame.\n",
      "Try using .loc[row_indexer,col_indexer] = value instead\n",
      "\n",
      "See the caveats in the documentation: https://pandas.pydata.org/pandas-docs/stable/user_guide/indexing.html#returning-a-view-versus-a-copy\n",
      "  This is separate from the ipykernel package so we can avoid doing imports until\n"
     ]
    },
    {
     "data": {
      "image/png": "[encoded data removed]",
      "text/plain": [
       "<Figure size 432x288 with 1 Axes>"
      ]
     },
     "metadata": {
      "needs_background": "light"
     },
     "output_type": "display_data"
    }
   ],
   "source": [
    "#crear dataframe con los ultimos cinco dias  y otro con el vpd de os ultimos cinco dias\n",
    "\n",
    "df2[\"fecha\"] = pd.to_datetime(df2[\"fecha\"])\n",
    "df2.head(10)\n",
    "\n",
    "df2[\"fecha\"].max()\n",
    "\n",
    "df2[\"fecha\"].min()\n",
    "\n",
    "df2[\"fecha\"].max() - df2[\"fecha\"].min()\n",
    "\n",
    "df2[\"fecha\"].max() - pd.Timedelta(days=5)\n",
    "\n",
    "df2 = df2[df2[\"fecha\"] > df2[\"fecha\"].max() - pd.Timedelta(days=5)]\n",
    "\n",
    "df2.head(10)\n",
    "\n",
    "df2['VPD'].describe()\n",
    "\n",
    "#Hacer una grafica de la columna vpd\n",
    "\n",
    "plt.plot(df2['fecha'],df2['VPD'], label = \"VPD\")\n",
    "plt.grid()\n",
    "plt.legend()\n",
    "plt.title(\"VPD\")\n",
    "plt.xlabel(\"Tiempo\")\n",
    "plt.ylabel(\"VPD\")\n",
    "plt.show()\n"
   ]
  },
  {
   "cell_type": "code",
   "execution_count": null,
   "metadata": {},
   "outputs": [],
   "source": [
    "#Hacer una grafica de la columna vpd\n",
    "\n",
    "plt.plot(df2['fecha'],df2['VPD'], label = \"VPD\")\n",
    "plt.grid()\n",
    "plt.legend()\n",
    "plt.title(\"VPD\")\n",
    "plt.xlabel(\"Tiempo\")\n",
    "plt.ylabel(\"VPD\")\n",
    "plt.show()\n"
   ]
  },
  {
   "cell_type": "code",
   "execution_count": 8,
   "metadata": {},
   "outputs": [
    {
     "data": {
      "text/plain": [
       "count    30411.000000\n",
       "mean       439.504949\n",
       "std         18.999626\n",
       "min        364.000000\n",
       "25%        429.000000\n",
       "50%        438.000000\n",
       "75%        448.000000\n",
       "max        923.000000\n",
       "Name: _value, dtype: float64"
      ]
     },
     "execution_count": 8,
     "metadata": {},
     "output_type": "execute_result"
    }
   ],
   "source": [
    "df_co2 = pd.read_csv('INFLUX DATA/11-02-2024 - 12-03-2024-CO2.csv')\n",
    "df_co2['_value'].describe()"
   ]
  },
  {
   "cell_type": "code",
   "execution_count": 11,
   "metadata": {},
   "outputs": [
    {
     "data": {
      "text/plain": [
       "count    30407.000000\n",
       "mean        19.425953\n",
       "std          1.600114\n",
       "min         15.070000\n",
       "25%         18.260000\n",
       "50%         19.260000\n",
       "75%         20.500000\n",
       "max         28.070000\n",
       "Name: _value, dtype: float64"
      ]
     },
     "execution_count": 11,
     "metadata": {},
     "output_type": "execute_result"
    }
   ],
   "source": [
    "df_temperature = pd.read_csv('INFLUX DATA/11-02-2024 - 12-03-2024-TEMPERATURE.csv')\n",
    "df_temperature['_value'].describe()"
   ]
  },
  {
   "cell_type": "code",
   "execution_count": 12,
   "metadata": {},
   "outputs": [
    {
     "data": {
      "text/plain": [
       "count    30409.000000\n",
       "mean        74.666592\n",
       "std          6.466173\n",
       "min         51.280000\n",
       "25%         71.040000\n",
       "50%         75.240000\n",
       "75%         79.880000\n",
       "max         88.770000\n",
       "Name: _value, dtype: float64"
      ]
     },
     "execution_count": 12,
     "metadata": {},
     "output_type": "execute_result"
    }
   ],
   "source": [
    "df_humidity = pd.read_csv('INFLUX DATA/11-02-2024 - 12-03-2024-HUMIDITY.csv')\n",
    "df_humidity['_value'].describe()"
   ]
  },
  {
   "cell_type": "code",
   "execution_count": 14,
   "metadata": {},
   "outputs": [
    {
     "data": {
      "text/plain": [
       "count    156115.000000\n",
       "mean          5.563305\n",
       "std           0.239495\n",
       "min           4.110000\n",
       "25%           5.520000\n",
       "50%           5.550000\n",
       "75%           5.580000\n",
       "max          15.420000\n",
       "Name: _value, dtype: float64"
      ]
     },
     "execution_count": 14,
     "metadata": {},
     "output_type": "execute_result"
    }
   ],
   "source": [
    "df_ph = pd.read_csv('INFLUX DATA/11-02-2024 - 12-03-2024-pH.csv')\n",
    "df_ph['_value'].describe()"
   ]
  },
  {
   "cell_type": "code",
   "execution_count": 15,
   "metadata": {},
   "outputs": [
    {
     "data": {
      "text/plain": [
       "count    156124.000000\n",
       "mean        837.285128\n",
       "std          76.297629\n",
       "min           0.000000\n",
       "25%         800.800000\n",
       "50%         815.800000\n",
       "75%         835.700000\n",
       "max        1346.000000\n",
       "Name: _value, dtype: float64"
      ]
     },
     "execution_count": 15,
     "metadata": {},
     "output_type": "execute_result"
    }
   ],
   "source": [
    "df_ec = pd.read_csv('INFLUX DATA/11-02-2024 - 12-03-2024-EC.csv')   \n",
    "df_ec['_value'].describe()"
   ]
  },
  {
   "cell_type": "code",
   "execution_count": 19,
   "metadata": {},
   "outputs": [
    {
     "data": {
      "image/png": "[encoded data removed]",
      "text/plain": [
       "<Figure size 720x360 with 1 Axes>"
      ]
     },
     "metadata": {
      "needs_background": "light"
     },
     "output_type": "display_data"
    }
   ],
   "source": [
    "plt.figure(figsize=(10,5))\n",
    "plt.plot(df_ec['_value'], label = \"EC\")\n",
    "plt.grid()\n",
    "plt.legend()\n",
    "plt.title(\"EC\")\n",
    "plt.xlabel(\"Tiempo\")\n",
    "plt.ylabel(\"EC\")\n",
    "plt.show()\n"
   ]
  },
  {
   "cell_type": "code",
   "execution_count": 21,
   "metadata": {},
   "outputs": [
    {
     "data": {
      "image/png": "[encoded data removed]",
      "text/plain": [
       "<Figure size 720x360 with 1 Axes>"
      ]
     },
     "metadata": {
      "needs_background": "light"
     },
     "output_type": "display_data"
    }
   ],
   "source": [
    "plt.figure(figsize=(10,5))\n",
    "plt.plot(df_ph['_value'], label = \"PH\")\n",
    "plt.grid()\n",
    "plt.legend()\n",
    "plt.title(\"PH\")\n",
    "plt.xlabel(\"Tiempo\")\n",
    "plt.ylabel(\"PH\")\n",
    "plt.show()\n"
   ]
  },
  {
   "cell_type": "code",
   "execution_count": 20,
   "metadata": {},
   "outputs": [
    {
     "data": {
      "text/plain": [
       "count    30414.000000\n",
       "mean         0.581878\n",
       "std          0.190611\n",
       "min          0.230000\n",
       "25%          0.430000\n",
       "50%          0.550000\n",
       "75%          0.680000\n",
       "max          1.850000\n",
       "Name: _value, dtype: float64"
      ]
     },
     "execution_count": 20,
     "metadata": {},
     "output_type": "execute_result"
    }
   ],
   "source": [
    "df_vpd = pd.read_csv('INFLUX DATA/11-02-2024 - 12-03-2024-VPD.csv')\n",
    "df_vpd['_value'].describe()\n"
   ]
  },
  {
   "cell_type": "code",
   "execution_count": 17,
   "metadata": {},
   "outputs": [
    {
     "data": {
      "text/plain": [
       "0.08477514284042759"
      ]
     },
     "execution_count": 17,
     "metadata": {},
     "output_type": "execute_result"
    }
   ],
   "source": [
    "#calcular la desviacion estandar de la media frente al valor ideal del ec\n",
    "\n",
    "ideal = 900\n",
    "df_ec['_value'].std() / ideal"
   ]
  }
 ],
 "metadata": {
  "kernelspec": {
   "display_name": "venv",
   "language": "python",
   "name": "python3"
  },
  "language_info": {
   "codemirror_mode": {
    "name": "ipython",
    "version": 3
   },
   "file_extension": ".py",
   "mimetype": "text/x-python",
   "name": "python",
   "nbconvert_exporter": "python",
   "pygments_lexer": "ipython3",
   "version": "3.6.5"
  }
 },
 "nbformat": 4,
 "nbformat_minor": 2
}
